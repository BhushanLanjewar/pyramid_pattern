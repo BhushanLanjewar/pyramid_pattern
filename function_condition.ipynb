{
 "cells": [
  {
   "cell_type": "markdown",
   "id": "ee701606-1bdb-4134-ad22-dffc462bf472",
   "metadata": {},
   "source": [
    "# Math operation usimg function and condition\r\n"
   ]
  },
  {
   "cell_type": "code",
   "execution_count": 9,
   "id": "de1b21f1-35ec-4351-9d29-e944ead73c9f",
   "metadata": {},
   "outputs": [
    {
     "name": "stdout",
     "output_type": "stream",
     "text": [
      "addition = 50\n",
      "subtraction = 70\n",
      "multiplication = 1000\n",
      "division = 100.0\n"
     ]
    }
   ],
   "source": [
    "def operation(val1,val2,op):\n",
    "    output1 = val1 + val2\n",
    "    output2 = val1 - val2\n",
    "    output3 = val1 * val2 \n",
    "    output4 = val1 / val2\n",
    "    if op == 'add':\n",
    "        return output1\n",
    "    elif op == 'sub':\n",
    "        return output2\n",
    "    elif op == 'multi':\n",
    "        return output3\n",
    "    elif op == 'div':\n",
    "        return output4\n",
    "    else:\n",
    "        return 'invalid operation'\n",
    "\n",
    "\n",
    "addition = operation(20,30,'add')\n",
    "subtraction = operation(100,30,'sub')\n",
    "multiplication = operation(50,20,'multi')\n",
    "division = operation(10000,100,'div')\n",
    "\n",
    "print(f'addition = {addition}')\n",
    "print(f'subtraction = {subtraction}')\n",
    "print(f'multiplication = {multiplication}')\n",
    "print(f'division = {division}')\n",
    "            "
   ]
  },
  {
   "cell_type": "code",
   "execution_count": null,
   "id": "1a13f3ad-9e22-43b9-b9ee-2bfc08c000fb",
   "metadata": {},
   "outputs": [],
   "source": []
  },
  {
   "cell_type": "markdown",
   "id": "de0c4535-567c-4016-b7f3-91aa0b3e17d1",
   "metadata": {},
   "source": [
    "# pyramid"
   ]
  },
  {
   "cell_type": "code",
   "execution_count": 17,
   "id": "a65be9a7-cfad-43d4-93fb-7206e86a4a4c",
   "metadata": {},
   "outputs": [
    {
     "name": "stdout",
     "output_type": "stream",
     "text": [
      "    *\n",
      "   ***\n",
      "  *****\n",
      " *******\n",
      "*********\n"
     ]
    }
   ],
   "source": [
    "# 1)\n",
    "\n",
    "def pattern(n):\n",
    "    for i in range(1,n+1):\n",
    "        for j in range(n-i):\n",
    "            print(\" \",end=\"\")\n",
    "        for k in range(1,2*i):\n",
    "            print('*',end=\"\")\n",
    "        print()\n",
    "        \n",
    "pattern(5)\n"
   ]
  },
  {
   "cell_type": "code",
   "execution_count": null,
   "id": "5c7489cb-30d1-4a4e-9cd4-353afd8a71a6",
   "metadata": {},
   "outputs": [],
   "source": []
  },
  {
   "cell_type": "code",
   "execution_count": 21,
   "id": "dc557fa2-02b7-45f7-b4bf-a0b6a8a963a6",
   "metadata": {},
   "outputs": [
    {
     "name": "stdout",
     "output_type": "stream",
     "text": [
      "      * \n",
      "     * * \n",
      "    * * * \n",
      "   * * * * \n",
      "  * * * * * \n",
      " * * * * * * \n",
      "* * * * * * * \n"
     ]
    }
   ],
   "source": [
    "# 2)\n",
    "\n",
    "def pattern(n):\n",
    "    for i in range(n):\n",
    "        print(' ' * (n-i-1) +'* ' * (i+1))\n",
    "        \n",
    "pattern(7)\n"
   ]
  },
  {
   "cell_type": "code",
   "execution_count": null,
   "id": "6cf6fddf-cce0-4818-914a-b9a1db7b59a2",
   "metadata": {},
   "outputs": [],
   "source": []
  },
  {
   "cell_type": "code",
   "execution_count": 22,
   "id": "3a8869d9-35d1-480c-8f2d-2587d967477e",
   "metadata": {},
   "outputs": [
    {
     "name": "stdin",
     "output_type": "stream",
     "text": [
      "enter no of rows: 8\n"
     ]
    },
    {
     "name": "stdout",
     "output_type": "stream",
     "text": [
      "       * \n",
      "      * * \n",
      "     * * * \n",
      "    * * * * \n",
      "   * * * * * \n",
      "  * * * * * * \n",
      " * * * * * * * \n",
      "* * * * * * * * \n"
     ]
    }
   ],
   "source": [
    "# 3)\n",
    "\n",
    "n = int(input('enter no of rows:'))\n",
    "\n",
    "for i in range(n):\n",
    "    print(' ' * (n-i-1) +'* ' * (i+1))"
   ]
  }
 ],
 "metadata": {
  "kernelspec": {
   "display_name": "Python 3 (ipykernel)",
   "language": "python",
   "name": "python3"
  },
  "language_info": {
   "codemirror_mode": {
    "name": "ipython",
    "version": 3
   },
   "file_extension": ".py",
   "mimetype": "text/x-python",
   "name": "python",
   "nbconvert_exporter": "python",
   "pygments_lexer": "ipython3",
   "version": "3.11.7"
  }
 },
 "nbformat": 4,
 "nbformat_minor": 5
}
